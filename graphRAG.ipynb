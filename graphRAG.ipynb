{
 "cells": [
  {
   "cell_type": "markdown",
   "metadata": {},
   "source": [
    "# Graph RAG Experiment"
   ]
  },
  {
   "cell_type": "markdown",
   "metadata": {},
   "source": [
    "## Setup"
   ]
  },
  {
   "cell_type": "code",
   "execution_count": 1,
   "metadata": {},
   "outputs": [
    {
     "name": "stderr",
     "output_type": "stream",
     "text": [
      "d:\\MIDS\\Deep_Learning\\DL_Final_Project\\dlvenv\\Lib\\site-packages\\tqdm\\auto.py:21: TqdmWarning: IProgress not found. Please update jupyter and ipywidgets. See https://ipywidgets.readthedocs.io/en/stable/user_install.html\n",
      "  from .autonotebook import tqdm as notebook_tqdm\n"
     ]
    }
   ],
   "source": [
    "import os\n",
    "from langchain.graphs import Neo4jGraph\n",
    "from lib import create_vector_index, generate_response, run_trial\n",
    "from dotenv import load_dotenv"
   ]
  },
  {
   "cell_type": "markdown",
   "metadata": {},
   "source": [
    "Here we use the default embedding model from the AuraDB graph builder: sentence-transformers/all-MiniLM-L6-v2"
   ]
  },
  {
   "cell_type": "markdown",
   "metadata": {},
   "source": [
    "Load in the neo4j database information for authentication"
   ]
  },
  {
   "cell_type": "code",
   "execution_count": 2,
   "metadata": {},
   "outputs": [
    {
     "data": {
      "text/plain": [
       "True"
      ]
     },
     "execution_count": 2,
     "metadata": {},
     "output_type": "execute_result"
    }
   ],
   "source": [
    "load_dotenv()"
   ]
  },
  {
   "cell_type": "markdown",
   "metadata": {},
   "source": [
    "Connect to our hosted db"
   ]
  },
  {
   "cell_type": "code",
   "execution_count": 3,
   "metadata": {},
   "outputs": [],
   "source": [
    "url = \"neo4j+s://b9009f0e.databases.neo4j.io\"\n",
    "username = \"neo4j\"\n",
    "# get password from .env\n",
    "password = os.getenv(\"NEO4J_PASSWORD\")\n",
    "\n",
    "graph = Neo4jGraph(url=url, username=username, password=password)"
   ]
  },
  {
   "cell_type": "code",
   "execution_count": 4,
   "metadata": {},
   "outputs": [],
   "source": [
    "create_vector_index(graph, \"entities\")"
   ]
  },
  {
   "cell_type": "code",
   "execution_count": 5,
   "metadata": {},
   "outputs": [
    {
     "name": "stdout",
     "output_type": "stream",
     "text": [
      "EGDT stands for Early Goal-Directed Therapy. It is a treatment protocol that involves aggressive fluid resuscitation and administration of vasopressors and antimicrobial drugs to patients with severe sepsis or septic shock, aiming to achieve specific hemodynamic goals (e.g., blood pressure, cardiac output) within a certain timeframe (typically 6 hours). The goal is to improve patient outcomes, such as survival and quality of life.\n",
      "\n",
      "The ARISE study, which was conducted in Australia and New Zealand, investigated the effectiveness of EGDT compared to usual care in patients presenting to the emergency department with early septic shock. Unfortunately, the study found no significant reduction in 90-day all-cause mortality in the EGDT group compared to the control group.\n",
      "\n",
      "As a result, there is ongoing debate and controversy surrounding the use of EGDT in treating patients with severe sepsis. While some studies suggest that bundle-based care, including EGDT, may be beneficial, others have raised concerns about the potential risks associated with individual elements of the protocol, as well as issues related to infrastructure and resource requirements.\n",
      "\n",
      "In summary, EGDT is a treatment protocol aimed at improving outcomes in patients with severe sepsis or septic shock. However, recent studies, such as ARISE, have raised questions about its effectiveness in reducing mortality rates in this patient population.\n"
     ]
    }
   ],
   "source": [
    "Question = \"What is EGDT?\"\n",
    "response, context = generate_response(graph, Question)\n",
    "print(response.response)\n",
    "# print(context)"
   ]
  },
  {
   "cell_type": "code",
   "execution_count": 6,
   "metadata": {},
   "outputs": [],
   "source": [
    "Questions = [\n",
    "    \"Among patients with severe sepsis or septic shock, does administration of albumin 20% solution to maintain serum albumin level ≥3 g/dL (≥30 g/L) reduce all-cause mortality at 28 days when compared to no albumin?\",\n",
    "    \"Among patients with septic shock and relative adrenal insufficiency, do corticosteroids reduce 28-day mortality?\",\n",
    "    \"In adult patients with septic shock, does low-dose hydrocortisone plus fludrocortisone for 7 days affect overall survival at 90 days?\",\n",
    "    \"In patients presenting to an emergency department with severe sepsis or septic shock, does early goal-directed therapy reduce all-cause mortality at 90 days when compared to usual care?\",\n",
    "    \"Among critically ill patients in septic shock, does low-dose hydrocortisone therapy improve survival?\",\n",
    "]"
   ]
  },
  {
   "cell_type": "code",
   "execution_count": 7,
   "metadata": {},
   "outputs": [],
   "source": [
    "output_df = run_trial(graph, Questions)"
   ]
  },
  {
   "cell_type": "code",
   "execution_count": 8,
   "metadata": {},
   "outputs": [
    {
     "data": {
      "text/html": [
       "<div>\n",
       "<style scoped>\n",
       "    .dataframe tbody tr th:only-of-type {\n",
       "        vertical-align: middle;\n",
       "    }\n",
       "\n",
       "    .dataframe tbody tr th {\n",
       "        vertical-align: top;\n",
       "    }\n",
       "\n",
       "    .dataframe thead th {\n",
       "        text-align: right;\n",
       "    }\n",
       "</style>\n",
       "<table border=\"1\" class=\"dataframe\">\n",
       "  <thead>\n",
       "    <tr style=\"text-align: right;\">\n",
       "      <th></th>\n",
       "      <th>llama3.2:latest-None</th>\n",
       "      <th>llama3.2:latest-vector</th>\n",
       "      <th>llama3.2:latest-graph</th>\n",
       "      <th>llama3.2:latest-hybrid</th>\n",
       "      <th>granite3-dense:2b-None</th>\n",
       "      <th>granite3-dense:2b-vector</th>\n",
       "      <th>granite3-dense:2b-graph</th>\n",
       "      <th>granite3-dense:2b-hybrid</th>\n",
       "    </tr>\n",
       "  </thead>\n",
       "  <tbody>\n",
       "    <tr>\n",
       "      <th>Question 1</th>\n",
       "      <td>[Based on the available evidence, the administ...</td>\n",
       "      <td>[Based on the provided context, it appears tha...</td>\n",
       "      <td>[This appears to be a summary of the results f...</td>\n",
       "      <td>[The EGDT group (Early Goal Directed Therapy) ...</td>\n",
       "      <td>[Based on the provided context, it is not poss...</td>\n",
       "      <td>[Based on the provided context from the ALBIOS...</td>\n",
       "      <td>[The data provided appears to be a comparison ...</td>\n",
       "      <td>[The text provided seems to be a mix of two di...</td>\n",
       "    </tr>\n",
       "    <tr>\n",
       "      <th>Question 2</th>\n",
       "      <td>[Based on available evidence, corticosteroids ...</td>\n",
       "      <td>[Based on the provided context, it appears tha...</td>\n",
       "      <td>[It appears that you have provided a large tex...</td>\n",
       "      <td>[Based on the provided text and context, I wil...</td>\n",
       "      <td>[Based on the provided context, it is not poss...</td>\n",
       "      <td>[Based on the provided context, the ANNANE tri...</td>\n",
       "      <td>[Based on the provided information, here's a s...</td>\n",
       "      <td>[Based on the provided context, corticosteroid...</td>\n",
       "    </tr>\n",
       "    <tr>\n",
       "      <th>Question 3</th>\n",
       "      <td>[I don't have access to any specific study or ...</td>\n",
       "      <td>[Based on the provided context, low-dose hydro...</td>\n",
       "      <td>[I can help you summarize the text. Here's a s...</td>\n",
       "      <td>[It appears that you have provided a sample te...</td>\n",
       "      <td>[Based on the provided context, there is no sp...</td>\n",
       "      <td>[Based on the provided context, low-dose hydro...</td>\n",
       "      <td>[Based on the provided information, corticoste...</td>\n",
       "      <td>[Based on the provided context, isone-plus-flu...</td>\n",
       "    </tr>\n",
       "    <tr>\n",
       "      <th>Question 4</th>\n",
       "      <td>[Based on the available evidence, early goal-d...</td>\n",
       "      <td>[Based on the provided context from the APROCC...</td>\n",
       "      <td>[It appears that you have a long list of condi...</td>\n",
       "      <td>[Here are the results of the analysis:\\n\\n1. *...</td>\n",
       "      <td>[Based on the provided context, there is no sp...</td>\n",
       "      <td>[Based on the provided context, a study called...</td>\n",
       "      <td>[The text discusses the Early Goal-Directed Th...</td>\n",
       "      <td>[Based on the provided context, septic shock i...</td>\n",
       "    </tr>\n",
       "    <tr>\n",
       "      <th>Question 5</th>\n",
       "      <td>[Based on the available evidence, low-dose hyd...</td>\n",
       "      <td>[Based on the provided context, low-dose hydro...</td>\n",
       "      <td>[This appears to be a large dataset of medical...</td>\n",
       "      <td>[Based on the provided context, it appears tha...</td>\n",
       "      <td>[Based on the provided context, it is not poss...</td>\n",
       "      <td>[Based on the provided context, there is some ...</td>\n",
       "      <td>[Based on the provided information, corticoste...</td>\n",
       "      <td>[Based on the provided context, here's a summa...</td>\n",
       "    </tr>\n",
       "  </tbody>\n",
       "</table>\n",
       "</div>"
      ],
      "text/plain": [
       "                                         llama3.2:latest-None  \\\n",
       "Question 1  [Based on the available evidence, the administ...   \n",
       "Question 2  [Based on available evidence, corticosteroids ...   \n",
       "Question 3  [I don't have access to any specific study or ...   \n",
       "Question 4  [Based on the available evidence, early goal-d...   \n",
       "Question 5  [Based on the available evidence, low-dose hyd...   \n",
       "\n",
       "                                       llama3.2:latest-vector  \\\n",
       "Question 1  [Based on the provided context, it appears tha...   \n",
       "Question 2  [Based on the provided context, it appears tha...   \n",
       "Question 3  [Based on the provided context, low-dose hydro...   \n",
       "Question 4  [Based on the provided context from the APROCC...   \n",
       "Question 5  [Based on the provided context, low-dose hydro...   \n",
       "\n",
       "                                        llama3.2:latest-graph  \\\n",
       "Question 1  [This appears to be a summary of the results f...   \n",
       "Question 2  [It appears that you have provided a large tex...   \n",
       "Question 3  [I can help you summarize the text. Here's a s...   \n",
       "Question 4  [It appears that you have a long list of condi...   \n",
       "Question 5  [This appears to be a large dataset of medical...   \n",
       "\n",
       "                                       llama3.2:latest-hybrid  \\\n",
       "Question 1  [The EGDT group (Early Goal Directed Therapy) ...   \n",
       "Question 2  [Based on the provided text and context, I wil...   \n",
       "Question 3  [It appears that you have provided a sample te...   \n",
       "Question 4  [Here are the results of the analysis:\\n\\n1. *...   \n",
       "Question 5  [Based on the provided context, it appears tha...   \n",
       "\n",
       "                                       granite3-dense:2b-None  \\\n",
       "Question 1  [Based on the provided context, it is not poss...   \n",
       "Question 2  [Based on the provided context, it is not poss...   \n",
       "Question 3  [Based on the provided context, there is no sp...   \n",
       "Question 4  [Based on the provided context, there is no sp...   \n",
       "Question 5  [Based on the provided context, it is not poss...   \n",
       "\n",
       "                                     granite3-dense:2b-vector  \\\n",
       "Question 1  [Based on the provided context from the ALBIOS...   \n",
       "Question 2  [Based on the provided context, the ANNANE tri...   \n",
       "Question 3  [Based on the provided context, low-dose hydro...   \n",
       "Question 4  [Based on the provided context, a study called...   \n",
       "Question 5  [Based on the provided context, there is some ...   \n",
       "\n",
       "                                      granite3-dense:2b-graph  \\\n",
       "Question 1  [The data provided appears to be a comparison ...   \n",
       "Question 2  [Based on the provided information, here's a s...   \n",
       "Question 3  [Based on the provided information, corticoste...   \n",
       "Question 4  [The text discusses the Early Goal-Directed Th...   \n",
       "Question 5  [Based on the provided information, corticoste...   \n",
       "\n",
       "                                     granite3-dense:2b-hybrid  \n",
       "Question 1  [The text provided seems to be a mix of two di...  \n",
       "Question 2  [Based on the provided context, corticosteroid...  \n",
       "Question 3  [Based on the provided context, isone-plus-flu...  \n",
       "Question 4  [Based on the provided context, septic shock i...  \n",
       "Question 5  [Based on the provided context, here's a summa...  "
      ]
     },
     "execution_count": 8,
     "metadata": {},
     "output_type": "execute_result"
    }
   ],
   "source": [
    "output_df "
   ]
  },
  {
   "cell_type": "code",
   "execution_count": 9,
   "metadata": {},
   "outputs": [],
   "source": [
    "#write to csv\n",
    "output_df.to_csv(\"trial1.csv\", index=False)"
   ]
  },
  {
   "cell_type": "code",
   "execution_count": 14,
   "metadata": {},
   "outputs": [
    {
     "name": "stderr",
     "output_type": "stream",
     "text": [
      "C:\\Users\\johnh\\AppData\\Local\\Temp\\ipykernel_34964\\1897927160.py:1: FutureWarning: Series.__getitem__ treating keys as positions is deprecated. In a future version, integer keys will always be treated as labels (consistent with DataFrame behavior). To access a value by position, use `ser.iloc[pos]`\n",
      "  output_df[\"llama3.2:latest-hybrid\"][2]\n"
     ]
    },
    {
     "data": {
      "text/plain": [
       "['It appears that you have provided a sample text from an FDA database related to clinical trials, specifically for the APROCCHSS trial.\\n\\nBased on the format [(File Name, Text),...] it seems like each line represents a unique data point or entry in the database. Here\\'s a breakdown of the entries:\\n\\n1. `(\\'APROCCHSS.txt\\', \\'with hydrocortisone plus fludrocortisone.\\')`: This entry indicates that the file name is \"APROCCHSS.txt\" and contains text related to the trial being conducted with hydrocortisone plus fludrocortisone.\\n2. `(\\'APROCCHSS.txt\\', \\'The mechanisms by which corticosteroids may favorably affect the outcome of patients with septic shock have been detailed recently.7 In brief, corticosteroids improve cardiovascular function by restoring effective blood volume through increased mineralocorticoid activity and by increasing systemic vascular resistance, an effect that is partly related to endothelial glucocorticoid receptors.20 This might explain why in our trial there was less need for vasopressors with hydrocortisone plus fludrocortisone than with placebo. Corticosteroids attenuate inflammation in various organs in both animals and humans with sepsis, an effect partly related to inhibition of nuclear factor κB (NF-κB).21 In our trial, hydrocortisone-plus-fludrocortisone therapy accelerated the resolution of organ failure in adults with septic shock.\\')`: This entry provides additional context and details about the mechanisms by which corticosteroids may benefit patients with septic shock.\\n3. `(\\'APROCCHSS.txt\\', \\'With respect to 90-day all-cause mortality, there was an absolute difference of 6 percentage points and a relative difference of 12% that favored hydrocortisone plus fludrocortisone over placebo; these findings are in keeping with those of a recent Cochrane review.8 In this systematic review, only 2 of 33 trials were powered to address the effects of a long (≥5 days) course of low-dose corticosteroids on mortality.8 The first trial (Ger-Inf-05), in which patients received hydrocortisone plus fludrocortisone or matching placebos for 7 days, showed an absolute difference of 6 percentage points in 28-day mortality in favor of hydrocortisone plus fludrocortisone.11 The second trial (Corticosteroid Therapy of Septic Shock [CORTICUS]) showed no significant survival benefit from an 11-day course of hydrocortisone alone.12 In a more recent trial involving 380 adults with severe sepsis (Hydrocortisone for Prevention of Septic Shock [HYPRESS]),22 hydrocortisone alone failed to prevent septic shock. That trial was not powered to address the effects of hydrocortisone on mortality and excluded patients with shock.\\')`: This entry discusses the results of various trials, including those mentioned in the previous text, and provides context about the benefits and limitations of corticosteroids in treating septic shock.\\n4. `(\\'APROCCHSS.txt\\', \\']) showed no significant survival benefit from an 11-day course of hydrocortisone alone.12 In a more recent trial involving 380 adults with severe sepsis (Hydrocortisone for Prevention of Septic Shock [HYPRESS]),22 hydrocortisone alone failed to prevent septic shock. That trial was not powered to address the effects of hydrocortisone on mortality and excluded patients with shock.\\')`: This entry is a continuation of the previous one, providing more details about the HYPRESS trial.\\n\\nPlease let me know if you would like me to extract any specific information from these entries or provide further assistance!']"
      ]
     },
     "execution_count": 14,
     "metadata": {},
     "output_type": "execute_result"
    }
   ],
   "source": [
    "output_df[\"llama3.2:latest-hybrid\"][2]\n"
   ]
  },
  {
   "cell_type": "code",
   "execution_count": 15,
   "metadata": {},
   "outputs": [
    {
     "name": "stderr",
     "output_type": "stream",
     "text": [
      "C:\\Users\\johnh\\AppData\\Local\\Temp\\ipykernel_34964\\1484187326.py:1: FutureWarning: Series.__getitem__ treating keys as positions is deprecated. In a future version, integer keys will always be treated as labels (consistent with DataFrame behavior). To access a value by position, use `ser.iloc[pos]`\n",
      "  output_df[\"llama3.2:latest-None\"][2]\n"
     ]
    },
    {
     "data": {
      "text/plain": [
       "[\"I don't have access to any specific study or data that directly addresses the question of whether low-dose hydrocortisone plus fludrocortisone for 7 days affects overall survival at 90 days in adult patients with septic shock.\\n\\nHowever, I can provide some general information on the topic. Septic shock is a severe and potentially life-threatening condition that requires prompt and effective treatment. Corticosteroids, such as hydrocortisone and fludrocortisone, have been used in various combinations to treat septic shock due to their anti-inflammatory properties.\\n\\nThe use of low-dose hydrocortisone plus fludrocortisone for 7 days has been explored in clinical trials and observational studies. While these studies suggest that corticosteroid therapy may improve hemodynamic stability, renal function, and organ perfusion in patients with septic shock, the evidence regarding overall survival at 90 days is limited.\\n\\nA systematic review of 17 studies on the use of corticosteroids in septic shock published in The Lancet in 2012 found that corticosteroid therapy did not significantly reduce mortality rates compared to placebo or no treatment. However, this review had limitations, including a high risk of bias and heterogeneity among study populations.\\n\\nMore recent studies have suggested that low-dose hydrocortisone plus fludrocortisone may be beneficial in reducing mortality rates in patients with septic shock, particularly those who are refractory to conventional treatment. For example, a randomized controlled trial published in The New England Journal of Medicine in 2014 found that the use of low-dose hydrocortisone plus fludrocortisone for 7 days improved survival rates compared to placebo in patients with septic shock.\\n\\nIn summary, while the evidence is not yet definitive, some studies suggest that low-dose hydrocortisone plus fludrocortisone may have a beneficial effect on overall survival at 90 days in adult patients with septic shock. However, more high-quality randomized controlled trials are needed to confirm these findings and establish clear guidelines for the use of corticosteroids in this population.\\n\\nIt's worth noting that the choice of corticosteroid regimen, duration of treatment, and timing of administration may all impact its effectiveness in improving survival rates. Additionally, the role of corticosteroids in septic shock management is likely to evolve as our understanding of the underlying pathophysiology improves.\\n\\nIf you're looking for more specific information or want me to help with anything else, feel free to ask!\"]"
      ]
     },
     "execution_count": 15,
     "metadata": {},
     "output_type": "execute_result"
    }
   ],
   "source": [
    "output_df[\"llama3.2:latest-None\"][2]"
   ]
  }
 ],
 "metadata": {
  "kernelspec": {
   "display_name": "dlvenv",
   "language": "python",
   "name": "python3"
  },
  "language_info": {
   "codemirror_mode": {
    "name": "ipython",
    "version": 3
   },
   "file_extension": ".py",
   "mimetype": "text/x-python",
   "name": "python",
   "nbconvert_exporter": "python",
   "pygments_lexer": "ipython3",
   "version": "3.11.5"
  }
 },
 "nbformat": 4,
 "nbformat_minor": 2
}
